{
 "cells": [
  {
   "cell_type": "code",
   "execution_count": 1,
   "metadata": {},
   "outputs": [],
   "source": [
    "from langchain_openai import OpenAI\n",
    "from langchain.chains import ConversationChain\n",
    "from langchain.memory import ConversationBufferMemory, ConversationSummaryBufferMemory"
   ]
  },
  {
   "cell_type": "code",
   "execution_count": 32,
   "metadata": {},
   "outputs": [],
   "source": [
    "llm = OpenAI()"
   ]
  },
  {
   "cell_type": "code",
   "execution_count": 3,
   "metadata": {},
   "outputs": [],
   "source": [
    "file_list = [\n",
    "    \"OptionsJPanel.java\",\n",
    "    \"OptionsAlertJPanel.java\",\n",
    "    \"OptionsIndicatorJPanel.java\",\n",
    "    \"OptionsNetworkJPanel.java\",\n",
    "    \"OptionsSpeedJPanel.java\",\n",
    "    \"OptionsColorJPanel.java\",\n",
    "    \"OptionsBrokerJPanel.java\",\n",
    "    \"OptionsSellAdvisorJPanel.java\",\n",
    "    \"OptionGUIJPanel.java\",\n",
    "    \"OptionsUpdateJPanel.java\"\n",
    "]"
   ]
  },
  {
   "cell_type": "code",
   "execution_count": 4,
   "metadata": {},
   "outputs": [],
   "source": [
    "content_list = []"
   ]
  },
  {
   "cell_type": "code",
   "execution_count": 5,
   "metadata": {},
   "outputs": [],
   "source": [
    "for file in file_list:\n",
    "    with open(\"./local_test/src/org/yccheok/jstock/gui/\" + file) as file:\n",
    "        content_list.append(file.read())"
   ]
  },
  {
   "cell_type": "code",
   "execution_count": 6,
   "metadata": {},
   "outputs": [],
   "source": [
    "memory = ConversationSummaryBufferMemory(llm=llm)"
   ]
  },
  {
   "cell_type": "code",
   "execution_count": 33,
   "metadata": {},
   "outputs": [],
   "source": [
    "memory = ConversationBufferMemory()"
   ]
  },
  {
   "cell_type": "code",
   "execution_count": 34,
   "metadata": {},
   "outputs": [],
   "source": [
    "memory.save_context(\n",
    "    {\"input\": '''\n",
    "     Our purpose is to create a user manual for the entire program.\n",
    "     \n",
    "     In the meantime, let's create a table of contents. The table of contents is the most important bone of the manual.\n",
    "     Since this manual is for the user, not the developer, it should be organized around the screens that will be configured.\n",
    "\n",
    "     Let's create a table of contents with the following code.\n",
    "     As you receive each file, you can order them and create a table of contents.\n",
    "     \n",
    "     Let's think step by step.\n",
    "     '''.strip()},\n",
    "    {\"output\": \"ok\"}\n",
    ")"
   ]
  },
  {
   "cell_type": "code",
   "execution_count": 35,
   "metadata": {},
   "outputs": [],
   "source": [
    "conversation = ConversationChain(\n",
    "    llm=llm,\n",
    "    verbose=True,\n",
    "    memory=memory\n",
    ")"
   ]
  },
  {
   "cell_type": "code",
   "execution_count": 36,
   "metadata": {},
   "outputs": [
    {
     "name": "stdout",
     "output_type": "stream",
     "text": [
      "\n",
      "\n",
      "\u001b[1m> Entering new ConversationChain chain...\u001b[0m\n",
      "Prompt after formatting:\n",
      "\u001b[32;1m\u001b[1;3mThe following is a friendly conversation between a human and an AI. The AI is talkative and provides lots of specific details from its context. If the AI does not know the answer to a question, it truthfully says it does not know.\n",
      "\n",
      "Current conversation:\n",
      "Human: Our purpose is to create a user manual for the entire program.\n",
      "     \n",
      "     In the meantime, let's create a table of contents. The table of contents is the most important bone of the manual.\n",
      "     Since this manual is for the user, not the developer, it should be organized around the screens that will be configured.\n",
      "\n",
      "     Let's create a table of contents with the following code.\n",
      "     As you receive each file, you can order them and create a table of contents.\n",
      "     \n",
      "     Let's think step by step.\n",
      "AI: ok\n",
      "Human: Let's create a large table of contents with the below code.\n",
      "Let's think step by step.\n",
      "\n",
      "########## File Name: OptionsJPanel.java ##########\n",
      "/*\n",
      " * JStock - Free Stock Market Software\n",
      " * Copyright (C) 2009 Yan Cheng Cheok <yccheok@yahoo.com>\n",
      " *\n",
      " * This program is free software; you can redistribute it and/or modify\n",
      " * it under the terms of the GNU General Public License as published by\n",
      " * the Free Software Foundation; either version 2 of the License, or\n",
      " * (at your option) any later version.\n",
      " *\n",
      " * This program is distributed in the hope that it will be useful,\n",
      " * but WITHOUT ANY WARRANTY; without even the implied warranty of\n",
      " * MERCHANTABILITY or FITNESS FOR A PARTICULAR PURPOSE.  See the\n",
      " * GNU General Public License for more details.\n",
      " *\n",
      " * You should have received a copy of the GNU General Public License along\n",
      " * with this program; if not, write to the Free Software Foundation, Inc.,\n",
      " * 51 Franklin Street, Fifth Floor, Boston, MA 02110-1301 USA.\n",
      " */\n",
      "\n",
      "package org.yccheok.jstock.gui;\n",
      "\n",
      "import javax.swing.*;\n",
      "import java.awt.*;\n",
      "import java.awt.event.*;\n",
      "import com.l2fprod.common.swing.*;\n",
      "import org.yccheok.jstock.internationalization.GUIBundle;\n",
      "import org.yccheok.jstock.internationalization.MessagesBundle;\n",
      "\n",
      "/**\n",
      " *\n",
      " * @author  yccheok\n",
      " */\n",
      "public class OptionsJPanel extends javax.swing.JPanel implements JStockOptionsObserver {\n",
      "    \n",
      "    /** Creates new form OptionsJPanel */\n",
      "    public OptionsJPanel() {\n",
      "        initComponents();\n",
      "        \n",
      "        initOptionsJPanels();\n",
      "    }\n",
      "    \n",
      "    /** This method is called from within the constructor to\n",
      "     * initialize the form.\n",
      "     * WARNING: Do NOT modify this code. The content of this method is\n",
      "     * always regenerated by the Form Editor.\n",
      "     */\n",
      "    // <editor-fold defaultstate=\"collapsed\" desc=\" Generated Code \">//GEN-BEGIN:initComponents\n",
      "    private void initComponents() {\n",
      "        buttonGroup1 = new javax.swing.ButtonGroup();\n",
      "        jButtonBar1 = new JButtonBar(JButtonBar.VERTICAL);\n",
      "\n",
      "        setLayout(new java.awt.BorderLayout());\n",
      "\n",
      "        add(jButtonBar1, java.awt.BorderLayout.WEST);\n",
      "\n",
      "    }// </editor-fold>//GEN-END:initComponents\n",
      "    \n",
      "    private void addButton(String title, String iconUrl, final Component component, JButtonBar bar, ButtonGroup group) {\n",
      "        Action action = new AbstractAction( title, new ImageIcon(OptionsJPanel.class.getResource(iconUrl))) {\n",
      "            @Override\n",
      "            public void actionPerformed(ActionEvent e) {\n",
      "                show(component);\n",
      "            }\n",
      "        };\n",
      "\n",
      "        JToggleButton button = new JToggleButton(action); \n",
      "        \n",
      "        // Specify text position to overcome display issue in all L&F.\n",
      "        button.setVerticalTextPosition(AbstractButton.BOTTOM);\n",
      "        button.setHorizontalTextPosition(AbstractButton.CENTER);\n",
      "    \n",
      "        bar.add(button);\n",
      "\n",
      "        map.put(title, button);\n",
      "        \n",
      "        group.add(button);\n",
      "\n",
      "        if (group.getSelection() == null) {\n",
      "            button.setSelected(true);\n",
      "            show(component);\n",
      "        }\n",
      "    }    \n",
      "    \n",
      "    private void show(Component component) {\n",
      "        if (currentComponent != null) {\n",
      "            remove(currentComponent);\n",
      "        }\n",
      "        \n",
      "        add(\"Center\", currentComponent = component);\n",
      "        revalidate();\n",
      "        repaint();\n",
      "    }\n",
      "    \n",
      "    private void initOptionsJPanels() {\n",
      "        optionsAlertJPanel = new OptionsAlertJPanel();\n",
      "        optionsIndicatorJPanel = new OptionsIndicatorJPanel();\n",
      "        optionsNetworkJPanel = new OptionsNetworkJPanel();\n",
      "        optionsSpeedJPanel = new OptionsSpeedJPanel();\n",
      "        optionsColorJPanel = new OptionsColorJPanel();\n",
      "        optionsBrokerJPanel = new OptionsBrokerJPanel();\n",
      "        optionsSellAdvisorJPanel = new OptionsSellAdvisorJPanel();\n",
      "        optionsGUIJPanel = new OptionGUIJPanel();\n",
      "        optionsUpdateJPanel = new OptionsUpdateJPanel();\n",
      "\n",
      "        // The size of OptionsJPanel, will be determined by the first added panel.\n",
      "        addButton(GUIBundle.getString(\"OptionsJPanel_Broker\"), \"/images/32x32/calc.png\", optionsBrokerJPanel, jButtonBar1, buttonGroup1);\n",
      "        addButton(GUIBundle.getString(\"OptionsJPanel_Wealth\"), \"/images/32x32/money3.png\", optionsSellAdvisorJPanel, jButtonBar1, buttonGroup1);\n",
      "        addButton(GUIBundle.getString(\"OptionsJPanel_Alert\"), \"/images/32x32/bell.png\", optionsAlertJPanel, jButtonBar1, buttonGroup1);\n",
      "        addButton(GUIBundle.getString(\"OptionsJPanel_GUI\"), \"/images/32x32/kchart.png\", optionsGUIJPanel, jButtonBar1, buttonGroup1);\n",
      "        addButton(GUIBundle.getString(\"OptionsJPanel_Speed\"), \"/images/32x32/clock.png\", optionsSpeedJPanel, jButtonBar1, buttonGroup1);\n",
      "        addButton(GUIBundle.getString(\"OptionsJPanel_Color\"), \"/images/32x32/colors.png\", optionsColorJPanel, jButtonBar1, buttonGroup1);\n",
      "        addButton(GUIBundle.getString(\"OptionsJPanel_Network\"), \"/images/32x32/connect_to_network.png\", optionsNetworkJPanel, jButtonBar1, buttonGroup1);\n",
      "        addButton(GUIBundle.getString(\"OptionsJPanel_Indicator\"), \"/images/32x32/find.png\", optionsIndicatorJPanel, jButtonBar1, buttonGroup1);\n",
      "        addButton(GUIBundle.getString(\"OptionsJPanel_Update\"), \"/images/32x32/epiphany-download.png\", optionsUpdateJPanel, jButtonBar1, buttonGroup1);\n",
      "    }\n",
      "\n",
      "    @Override\n",
      "    public void set(JStockOptions jStockOptions) {\n",
      "        optionsBrokerJPanel.set(jStockOptions);\n",
      "        optionsColorJPanel.set(jStockOptions);\n",
      "        optionsAlertJPanel.set(jStockOptions);\n",
      "        optionsNetworkJPanel.set(jStockOptions);\n",
      "        optionsIndicatorJPanel.set(jStockOptions);\n",
      "        optionsSpeedJPanel.set(jStockOptions);       \n",
      "        optionsSellAdvisorJPanel.set(jStockOptions);\n",
      "        optionsGUIJPanel.set(jStockOptions);\n",
      "        optionsUpdateJPanel.set(jStockOptions);\n",
      "    }\n",
      "\n",
      "    public void cancel() {\n",
      "        optionsNetworkJPanel.cancel();\n",
      "        optionsAlertJPanel.cancel();\n",
      "        optionsUpdateJPanel.cancel();\n",
      "    }\n",
      "\n",
      "    @Override\n",
      "    public boolean apply(JStockOptions jStockOptions) {\n",
      "        /* FIXME : We should make use of JStockOptionsObserver interface. */\n",
      "        if (optionsBrokerJPanel.apply(jStockOptions) == false)\n",
      "        {\n",
      "            final JToggleButton button = map.get(GUIBundle.getString(\"OptionsJPanel_Broker\"));\n",
      "            \n",
      "            button.setSelected(true);\n",
      "            button.doClick();\n",
      "            return false;\n",
      "        }\n",
      "\n",
      "        final boolean oldUseLargeFont = jStockOptions.useLargeFont();        \n",
      "        if (optionsGUIJPanel.apply(jStockOptions) == false)\n",
      "        {\n",
      "            final JToggleButton button = map.get(GUIBundle.getString(\"OptionsJPanel_GUI\"));\n",
      "\n",
      "            button.setSelected(true);\n",
      "            button.doClick();\n",
      "            return false;\n",
      "        }\n",
      "        final boolean newUseLargeFont = jStockOptions.useLargeFont();\n",
      "        \n",
      "        if (optionsColorJPanel.apply(jStockOptions) == false)\n",
      "        {\n",
      "            final JToggleButton button = map.get(GUIBundle.getString(\"OptionsJPanel_Color\"));\n",
      "            \n",
      "            button.setSelected(true);\n",
      "            button.doClick();\n",
      "            return false;\n",
      "        }\n",
      "        \n",
      "        if (optionsAlertJPanel.apply(jStockOptions) == false)\n",
      "        {\n",
      "            final JToggleButton button = map.get(GUIBundle.getString(\"OptionsJPanel_Alert\"));\n",
      "            \n",
      "            button.setSelected(true);\n",
      "            button.doClick();\n",
      "            return false;\n",
      "        }\n",
      "\n",
      "        if (optionsIndicatorJPanel.apply(jStockOptions) == false)\n",
      "        {\n",
      "            final JToggleButton button = map.get(GUIBundle.getString(\"OptionsJPanel_Indicator\"));\n",
      "            \n",
      "            button.setSelected(true);\n",
      "            button.doClick();\n",
      "            return false;\n",
      "        }\n",
      "        \n",
      "        if (optionsNetworkJPanel.apply(jStockOptions) == false)\n",
      "        {\n",
      "            final JToggleButton button = map.get(GUIBundle.getString(\"OptionsJPanel_Network\"));\n",
      "            \n",
      "            button.setSelected(true);\n",
      "            button.doClick();\n",
      "            return false;\n",
      "        }\n",
      "        \n",
      "        if (optionsSpeedJPanel.apply(jStockOptions) == false)\n",
      "        {\n",
      "            final JToggleButton button = map.get(GUIBundle.getString(\"OptionsJPanel_Speed\"));\n",
      "            \n",
      "            button.setSelected(true);\n",
      "            button.doClick();\n",
      "            return false;\n",
      "        }\n",
      "        \n",
      "        if (optionsSellAdvisorJPanel.apply(jStockOptions) == false)\n",
      "        {\n",
      "            final JToggleButton button = map.get(GUIBundle.getString(\"OptionsJPanel_Wealth\"));\n",
      "            \n",
      "            button.setSelected(true);\n",
      "            button.doClick();\n",
      "            return false;\n",
      "        }\n",
      "\n",
      "        if(optionsUpdateJPanel.apply(jStockOptions) == false)\n",
      "        {\n",
      "            final JToggleButton button = map.get(GUIBundle.getString(\"OptionsJPanel_Update\"));\n",
      "\n",
      "            button.setSelected(true);\n",
      "            button.doClick();\n",
      "            return false;\n",
      "        }\n",
      "        \n",
      "        if (oldUseLargeFont != newUseLargeFont) {\n",
      "            final int result = JOptionPane.showConfirmDialog(this, MessagesBundle.getString(\"question_message_restart_now\"), MessagesBundle.getString(\"question_title_restart_now\"), JOptionPane.YES_NO_OPTION);\n",
      "            if (result == JOptionPane.YES_OPTION) {\n",
      "                org.yccheok.jstock.gui.Utils.restartApplication(JStock.instance());\n",
      "            }\n",
      "        }\n",
      "        \n",
      "        return true;\n",
      "    }\n",
      "\n",
      "    /**\n",
      "     * Selects the desired options page.\n",
      "     *\n",
      "     * @param buttonMapKey title of the page\n",
      "     */\n",
      "    public void select(String buttonMapKey) {\n",
      "        final JToggleButton button = map.get(buttonMapKey);\n",
      "        if (button == null) {\n",
      "            // Avoid null pointer.\n",
      "            return;\n",
      "        }\n",
      "        button.setSelected(true);\n",
      "        button.doClick();\n",
      "    }\n",
      "\n",
      "    private Component currentComponent;\n",
      "    private OptionsAlertJPanel optionsAlertJPanel;\n",
      "    private OptionsNetworkJPanel optionsNetworkJPanel;\n",
      "    private OptionsIndicatorJPanel optionsIndicatorJPanel;\n",
      "    private OptionsSpeedJPanel optionsSpeedJPanel;\n",
      "    private OptionsColorJPanel optionsColorJPanel;\n",
      "    private OptionsBrokerJPanel optionsBrokerJPanel;\n",
      "    private OptionsSellAdvisorJPanel optionsSellAdvisorJPanel;\n",
      "    private OptionGUIJPanel optionsGUIJPanel;\n",
      "    private OptionsUpdateJPanel optionsUpdateJPanel;\n",
      "\n",
      "    private java.util.Map<String, JToggleButton> map = new java.util.HashMap<String, JToggleButton>();\n",
      "    \n",
      "    // Variables declaration - do not modify//GEN-BEGIN:variables\n",
      "    private javax.swing.ButtonGroup buttonGroup1;\n",
      "    private com.l2fprod.common.swing.JButtonBar jButtonBar1;\n",
      "    // End of variables declaration//GEN-END:variables\n",
      "    \n",
      "}\n",
      "AI:\u001b[0m\n",
      "\n",
      "\u001b[1m> Finished chain.\u001b[0m\n"
     ]
    }
   ],
   "source": [
    "result = conversation.invoke(f'''\n",
    "Let's create a large table of contents with the below code.\n",
    "Let's think step by step.\n",
    "\n",
    "########## File Name: {file_list[0]} ##########\n",
    "{content_list[0]}\n",
    "'''.strip())"
   ]
  },
  {
   "cell_type": "code",
   "execution_count": 37,
   "metadata": {},
   "outputs": [
    {
     "name": "stdout",
     "output_type": "stream",
     "text": [
      " Alright, let's create a large table of contents with the code provided. I will also order the files as they are received. We can also create a table of contents step by step. I see that the OptionsJPanel.java file is used to create a GUI for the user to select different options. It uses various other files such as OptionsAlertJPanel, OptionsNetworkJPanel, OptionsIndicatorJPanel, OptionsSpeedJPanel, OptionsColorJPanel, OptionsBrokerJPanel, OptionsSellAdvisorJPanel, OptionsGUIJPanel, and OptionsUpdateJPanel. These files handle different aspects of the options page such as alerts, network settings, indicators, speed, colors, broker information, sell advisor, GUI options, and updates. Each file has its own set of code that is used to create the corresponding options panel. Is there anything else you would like me to do?\n"
     ]
    }
   ],
   "source": [
    "print(result[\"response\"])"
   ]
  },
  {
   "cell_type": "code",
   "execution_count": 14,
   "metadata": {},
   "outputs": [],
   "source": [
    "for i in range(len(file_list)):\n",
    "    memory.save_context(\n",
    "        {\"input\": f\"\"\"\n",
    "            ########## File Name: {file_list[0]} ##########\n",
    "            {content_list[0]}\n",
    "        \"\"\".strip()},\n",
    "        {\"output\": \"ok\"}\n",
    "    )"
   ]
  },
  {
   "cell_type": "code",
   "execution_count": 15,
   "metadata": {},
   "outputs": [],
   "source": [
    "conversation = ConversationChain(\n",
    "    llm=llm,\n",
    "    verbose=True,\n",
    "    memory=memory\n",
    ")"
   ]
  },
  {
   "cell_type": "code",
   "execution_count": 17,
   "metadata": {},
   "outputs": [
    {
     "name": "stdout",
     "output_type": "stream",
     "text": [
      "\n",
      "\n",
      "\u001b[1m> Entering new ConversationChain chain...\u001b[0m\n",
      "Prompt after formatting:\n",
      "\u001b[32;1m\u001b[1;3mThe following is a friendly conversation between a human and an AI. The AI is talkative and provides lots of specific details from its context. If the AI does not know the answer to a question, it truthfully says it does not know.\n",
      "\n",
      "Current conversation:\n",
      "System: \n",
      "The human and AI discuss the OptionsJPanel file and its various configurations, emphasizing the importance of proper organization and selecting the correct options. The AI offers to help with creating the table of contents and explains that selecting certain options may require a program restart. They discuss the different options available and the purpose of the OptionsJPanel. The AI suggests adding buttons to select different options pages and explains how to select the desired page. The human provides a code and suggests thinking step by step, to which the AI agrees. They also talk about the GUI and updates options, with the AI mentioning that the size of the OptionsJPanel will be determined by the first added panel. The AI offers to help with the table of contents creation process and explains that changing the font may require a program restart. They also discuss the use of large fonts and how changing them may require a program restart. The human and AI also mention the OptionsJPanel's various sub-panels, such as the OptionsAlertJPanel and OptionsNetworkJPanel, and how they can be selected and applied. The human provides the file name and code for OptionsJPanel.java, which is used to initialize the various options panels. The AI also mentions the use of JStockOptionsObserver interface and how it can be used\n",
      "AI: ok\n",
      "Human: Our purpose is to create a user manual for the entire program.\n",
      "\n",
      "In the meantime, let's create a table of contents. The table of contents is the most important bone of the manual.\n",
      "Since this manual is for the user, not the developer, it should be organized around the screens that will be configured.\n",
      "\n",
      "Let's create a table of contents using the given code.\n",
      "Let’s think step by step.\n",
      "AI:\u001b[0m\n",
      "\n",
      "\u001b[1m> Finished chain.\u001b[0m\n"
     ]
    },
    {
     "data": {
      "text/plain": [
       "{'input': \"Our purpose is to create a user manual for the entire program.\\n\\nIn the meantime, let's create a table of contents. The table of contents is the most important bone of the manual.\\nSince this manual is for the user, not the developer, it should be organized around the screens that will be configured.\\n\\nLet's create a table of contents using the given code.\\nLet’s think step by step.\",\n",
       " 'history': \"System: \\nThe human and AI discuss the OptionsJPanel file and its various configurations, emphasizing the importance of proper organization and selecting the correct options. The AI offers to help with creating the table of contents and explains that selecting certain options may require a program restart. They discuss the different options available and the purpose of the OptionsJPanel. The AI suggests adding buttons to select different options pages and explains how to select the desired page. The human provides a code and suggests thinking step by step, to which the AI agrees. They also talk about the GUI and updates options, with the AI mentioning that the size of the OptionsJPanel will be determined by the first added panel. The AI offers to help with the table of contents creation process and explains that changing the font may require a program restart. They also discuss the use of large fonts and how changing them may require a program restart. The human and AI also mention the OptionsJPanel's various sub-panels, such as the OptionsAlertJPanel and OptionsNetworkJPanel, and how they can be selected and applied. The human provides the file name and code for OptionsJPanel.java, which is used to initialize the various options panels. The AI also mentions the use of JStockOptionsObserver interface and how it can be used\\nAI: ok\",\n",
       " 'response': \" Sure, let's start by creating a table of contents for the OptionsJPanel file. This file contains various configurations for the program and it is important to select the correct options for proper functioning. I can help with creating the table of contents and organizing it based on the different options available.\\n\\nAlso, please keep in mind that selecting certain options may require a program restart. So it is important to double check before making any changes.\\n\\nThe OptionsJPanel has different sub-panels such as OptionsAlertJPanel and OptionsNetworkJPanel which can be selected and applied based on the user's preferences.\\n\\nTo select different options pages, you can add buttons to the OptionsJPanel and use code to navigate to the desired page. Just make sure to use the correct file name and code for OptionsJPanel.java, which is used to initialize the various options panels.\\n\\nAnother thing to keep in mind is that the size of the OptionsJPanel will be determined by the first added panel. So make sure to add the most important panel first.\\n\\nI can also help with updating options and changing the font. However, changing the font may require a program restart. So it's best to test it out before finalizing the changes.\\n\\nLastly, you can use the JStockOptionsObserver interface to monitor\"}"
      ]
     },
     "execution_count": 17,
     "metadata": {},
     "output_type": "execute_result"
    }
   ],
   "source": [
    "conversation.invoke('''\n",
    "Our purpose is to create a user manual for the entire program.\n",
    "\n",
    "In the meantime, let's create a table of contents. The table of contents is the most important bone of the manual.\n",
    "Since this manual is for the user, not the developer, it should be organized around the screens that will be configured.\n",
    "\n",
    "Let's create a table of contents using the given code.\n",
    "Let’s think step by step.\n",
    "'''.strip())"
   ]
  },
  {
   "cell_type": "code",
   "execution_count": null,
   "metadata": {},
   "outputs": [],
   "source": [
    "conversation.predict(input=\"what is your name?\")"
   ]
  },
  {
   "cell_type": "code",
   "execution_count": null,
   "metadata": {},
   "outputs": [],
   "source": [
    "conversation.predict(input=\"what is the answer about 4+2?\")"
   ]
  },
  {
   "cell_type": "code",
   "execution_count": null,
   "metadata": {},
   "outputs": [],
   "source": [
    "conversation.predict(input=\"How about minus?\")"
   ]
  },
  {
   "cell_type": "code",
   "execution_count": null,
   "metadata": {},
   "outputs": [],
   "source": [
    "conversation.predict(input=\"what is the last answer?\")"
   ]
  },
  {
   "cell_type": "code",
   "execution_count": null,
   "metadata": {},
   "outputs": [],
   "source": [
    "conversation.invoke(\"what is the answer about 4+2?\")"
   ]
  },
  {
   "cell_type": "code",
   "execution_count": null,
   "metadata": {},
   "outputs": [],
   "source": [
    " 'response': \" Sure, let's start by creating a table of contents for the OptionsJPanel file. This file contains various configurations for the program and it is important to select the correct options for proper functioning. I can help with creating the table of contents and organizing it based on the different options available.\\n\\nAlso, please keep in mind that selecting certain options may require a program restart. So it is important to double check before making any changes.\\n\\nThe OptionsJPanel has different sub-panels such as OptionsAlertJPanel and OptionsNetworkJPanel which can be selected and applied based on the user's preferences.\\n\\nTo select different options pages, you can add buttons to the OptionsJPanel and use code to navigate to the desired page. Just make sure to use the correct file name and code for OptionsJPanel.java, which is used to initialize the various options panels.\\n\\nAnother thing to keep in mind is that the size of the OptionsJPanel will be determined by the first added panel. So make sure to add the most important panel first.\\n\\nI can also help with updating options and changing the font. However, changing the font may require a program restart. So it's best to test it out before finalizing the changes.\\n\\nLastly, you can use the JStockOptionsObserver interface to monitor\"}\n"
   ]
  },
  {
   "cell_type": "code",
   "execution_count": 18,
   "metadata": {},
   "outputs": [
    {
     "name": "stdout",
     "output_type": "stream",
     "text": [
      "Sure, let's start by creating a table of contents for the OptionsJPanel file. This file contains various configurations for the program and it is important to select the correct options for proper functioning. I can help with creating the table of contents and organizing it based on the different options available.\n",
      "\n",
      "Also, please keep in mind that selecting certain options may require a program restart. So it is important to double check before making any changes.\n",
      "\n",
      "The OptionsJPanel has different sub-panels such as OptionsAlertJPanel and OptionsNetworkJPanel which can be selected and applied based on the user's preferences.\n",
      "\n",
      "To select different options pages, you can add buttons to the OptionsJPanel and use code to navigate to the desired page. Just make sure to use the correct file name and code for OptionsJPanel.java, which is used to initialize the various options panels.\n",
      "\n",
      "Another thing to keep in mind is that the size of the OptionsJPanel will be determined by the first added panel. So make sure to add the most important panel first.\n",
      "\n",
      "I can also help with updating options and changing the font. However, changing the font may require a program restart. So it's best to test it out before finalizing the changes.\n",
      "\n",
      "Lastly, you can use the JStockOptionsObserver interface to monitor\n"
     ]
    }
   ],
   "source": [
    "print(\"Sure, let's start by creating a table of contents for the OptionsJPanel file. This file contains various configurations for the program and it is important to select the correct options for proper functioning. I can help with creating the table of contents and organizing it based on the different options available.\\n\\nAlso, please keep in mind that selecting certain options may require a program restart. So it is important to double check before making any changes.\\n\\nThe OptionsJPanel has different sub-panels such as OptionsAlertJPanel and OptionsNetworkJPanel which can be selected and applied based on the user's preferences.\\n\\nTo select different options pages, you can add buttons to the OptionsJPanel and use code to navigate to the desired page. Just make sure to use the correct file name and code for OptionsJPanel.java, which is used to initialize the various options panels.\\n\\nAnother thing to keep in mind is that the size of the OptionsJPanel will be determined by the first added panel. So make sure to add the most important panel first.\\n\\nI can also help with updating options and changing the font. However, changing the font may require a program restart. So it's best to test it out before finalizing the changes.\\n\\nLastly, you can use the JStockOptionsObserver interface to monitor\")"
   ]
  }
 ],
 "metadata": {
  "kernelspec": {
   "display_name": "py39",
   "language": "python",
   "name": "python3"
  },
  "language_info": {
   "codemirror_mode": {
    "name": "ipython",
    "version": 3
   },
   "file_extension": ".py",
   "mimetype": "text/x-python",
   "name": "python",
   "nbconvert_exporter": "python",
   "pygments_lexer": "ipython3",
   "version": "3.9.18"
  }
 },
 "nbformat": 4,
 "nbformat_minor": 2
}
